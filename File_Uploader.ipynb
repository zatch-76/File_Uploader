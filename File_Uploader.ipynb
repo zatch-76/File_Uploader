{
  "nbformat": 4,
  "nbformat_minor": 0,
  "metadata": {
    "colab": {
      "name": "File Uploader",
      "provenance": [],
      "collapsed_sections": []
    },
    "kernelspec": {
      "name": "python3",
      "display_name": "Python 3"
    }
  },
  "cells": [
    {
      "cell_type": "markdown",
      "metadata": {
        "id": "FmeJSq_0T-iB"
      },
      "source": [
        "## __Upload any file with URL__"
      ]
    },
    {
      "cell_type": "markdown",
      "metadata": {
        "id": "fb45peENWxL0"
      },
      "source": [
        "##__Mount GDrive to /content/drive__"
      ]
    },
    {
      "cell_type": "code",
      "metadata": {
        "id": "17mMxzLVwXJN"
      },
      "source": [
        "from google.colab import drive\n",
        "drive.mount('/content/drive')"
      ],
      "execution_count": null,
      "outputs": []
    },
    {
      "cell_type": "markdown",
      "metadata": {
        "id": "HxJrEqyHYBiG"
      },
      "source": [
        "##__File Uploader__\n",
        "_*Make sure your file link is downloadable!*_"
      ]
    },
    {
      "cell_type": "code",
      "metadata": {
        "id": "Eh5fp2D9qqkJ"
      },
      "source": [
        "import os\n",
        "os.chdir(\"/content/drive/MyDrive\")\n",
        "!wget -c \"\" --no-check-certificate"
      ],
      "execution_count": null,
      "outputs": []
    },
    {
      "cell_type": "markdown",
      "metadata": {
        "id": "EEe0L5bfW9eB"
      },
      "source": [
        "# _Subcribe me on [YouTube](https://www.youtube.com/channel/UCt6wq8Bib-d2TmzB_httFAA)_\n",
        "# _Follow me on [Instagram](https://www.instagram.com/uct6wq_ucbr8e/)_"
      ]
    }
  ]
}
